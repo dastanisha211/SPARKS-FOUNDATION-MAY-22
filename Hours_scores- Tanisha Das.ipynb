{
 "cells": [
  {
   "cell_type": "markdown",
   "id": "52d2cddb",
   "metadata": {},
   "source": [
    "# Prediction Using Supervise Machine LearningTechnique"
   ]
  },
  {
   "cell_type": "markdown",
   "id": "54a53a3e",
   "metadata": {},
   "source": [
    "## AUTHOR : TANISHA DAS"
   ]
  },
  {
   "cell_type": "markdown",
   "id": "cce3da57",
   "metadata": {},
   "source": [
    "## PROBLEM STATEMENT"
   ]
  },
  {
   "cell_type": "markdown",
   "id": "ed3f9d5d",
   "metadata": {},
   "source": [
    "### In this regression task we will predict the percentage of marks that a student is expected to score based upon the number of hours they studied. This is a simple linear regression task as it involves just two variables."
   ]
  },
  {
   "cell_type": "code",
   "execution_count": 1,
   "id": "cadb9020",
   "metadata": {},
   "outputs": [],
   "source": [
    "# filtering out the warnings\n",
    "import warnings\n",
    "warnings.filterwarnings('ignore')"
   ]
  },
  {
   "cell_type": "code",
   "execution_count": 2,
   "id": "f1ccdae6",
   "metadata": {},
   "outputs": [],
   "source": [
    "# importing the required libraries\n",
    "import pandas as pd\n",
    "import numpy as np\n",
    "import os\n",
    "import matplotlib.pyplot as plt\n",
    "import seaborn as sns\n",
    "import statsmodels.api as sm\n",
    "%matplotlib inline"
   ]
  },
  {
   "cell_type": "markdown",
   "id": "4f20e409",
   "metadata": {},
   "source": [
    "## Reading The Data For Further Analysis"
   ]
  },
  {
   "cell_type": "code",
   "execution_count": 3,
   "id": "032b0175",
   "metadata": {},
   "outputs": [
    {
     "name": "stdout",
     "output_type": "stream",
     "text": [
      "Data is imported successfully\n"
     ]
    }
   ],
   "source": [
    "# Setting working directory\n",
    "os.chdir(R'C:\\Users\\TANIA DAS\\Downloads')\n",
    "\n",
    "# Loading the CSV data into a DataFrame\n",
    "hs=pd.read_csv('hours_scores.csv')\n",
    "print(\"Data is imported successfully\")"
   ]
  },
  {
   "cell_type": "markdown",
   "id": "eeb6becc",
   "metadata": {},
   "source": [
    "## Exploratory Data Analysis"
   ]
  },
  {
   "cell_type": "code",
   "execution_count": 4,
   "id": "40f4dc33",
   "metadata": {},
   "outputs": [
    {
     "data": {
      "text/html": [
       "<div>\n",
       "<style scoped>\n",
       "    .dataframe tbody tr th:only-of-type {\n",
       "        vertical-align: middle;\n",
       "    }\n",
       "\n",
       "    .dataframe tbody tr th {\n",
       "        vertical-align: top;\n",
       "    }\n",
       "\n",
       "    .dataframe thead th {\n",
       "        text-align: right;\n",
       "    }\n",
       "</style>\n",
       "<table border=\"1\" class=\"dataframe\">\n",
       "  <thead>\n",
       "    <tr style=\"text-align: right;\">\n",
       "      <th></th>\n",
       "      <th>Hours</th>\n",
       "      <th>Scores</th>\n",
       "    </tr>\n",
       "  </thead>\n",
       "  <tbody>\n",
       "    <tr>\n",
       "      <th>0</th>\n",
       "      <td>2.5</td>\n",
       "      <td>21</td>\n",
       "    </tr>\n",
       "    <tr>\n",
       "      <th>1</th>\n",
       "      <td>5.1</td>\n",
       "      <td>47</td>\n",
       "    </tr>\n",
       "    <tr>\n",
       "      <th>2</th>\n",
       "      <td>3.2</td>\n",
       "      <td>27</td>\n",
       "    </tr>\n",
       "    <tr>\n",
       "      <th>3</th>\n",
       "      <td>8.5</td>\n",
       "      <td>75</td>\n",
       "    </tr>\n",
       "    <tr>\n",
       "      <th>4</th>\n",
       "      <td>3.5</td>\n",
       "      <td>30</td>\n",
       "    </tr>\n",
       "  </tbody>\n",
       "</table>\n",
       "</div>"
      ],
      "text/plain": [
       "   Hours  Scores\n",
       "0    2.5      21\n",
       "1    5.1      47\n",
       "2    3.2      27\n",
       "3    8.5      75\n",
       "4    3.5      30"
      ]
     },
     "execution_count": 4,
     "metadata": {},
     "output_type": "execute_result"
    }
   ],
   "source": [
    "hs.head()# head of the data"
   ]
  },
  {
   "cell_type": "code",
   "execution_count": 5,
   "id": "fc5c64df",
   "metadata": {},
   "outputs": [
    {
     "data": {
      "text/plain": [
       "(25, 2)"
      ]
     },
     "execution_count": 5,
     "metadata": {},
     "output_type": "execute_result"
    }
   ],
   "source": [
    "hs.shape#Checking the data dimensions"
   ]
  },
  {
   "cell_type": "code",
   "execution_count": 6,
   "id": "fc2c338e",
   "metadata": {},
   "outputs": [
    {
     "data": {
      "text/plain": [
       "Index(['Hours', 'Scores'], dtype='object')"
      ]
     },
     "execution_count": 6,
     "metadata": {},
     "output_type": "execute_result"
    }
   ],
   "source": [
    "# Viewing the columns of the data\n",
    "hs.columns"
   ]
  },
  {
   "cell_type": "code",
   "execution_count": 7,
   "id": "e8256707",
   "metadata": {},
   "outputs": [
    {
     "name": "stdout",
     "output_type": "stream",
     "text": [
      "<class 'pandas.core.frame.DataFrame'>\n",
      "RangeIndex: 25 entries, 0 to 24\n",
      "Data columns (total 2 columns):\n",
      " #   Column  Non-Null Count  Dtype  \n",
      "---  ------  --------------  -----  \n",
      " 0   Hours   25 non-null     float64\n",
      " 1   Scores  25 non-null     int64  \n",
      "dtypes: float64(1), int64(1)\n",
      "memory usage: 528.0 bytes\n"
     ]
    }
   ],
   "source": [
    "# Checking the column information\n",
    "hs.info()"
   ]
  },
  {
   "cell_type": "code",
   "execution_count": 8,
   "id": "b681429b",
   "metadata": {},
   "outputs": [
    {
     "data": {
      "text/plain": [
       "Hours     0\n",
       "Scores    0\n",
       "dtype: int64"
      ]
     },
     "execution_count": 8,
     "metadata": {},
     "output_type": "execute_result"
    }
   ],
   "source": [
    "# Checking for missing values if any\n",
    "hs.isnull().sum().sort_values(ascending=False)"
   ]
  },
  {
   "cell_type": "markdown",
   "id": "05a95f4f",
   "metadata": {},
   "source": [
    "There are no missing values in the dataset"
   ]
  },
  {
   "cell_type": "code",
   "execution_count": 9,
   "id": "724dfad0",
   "metadata": {},
   "outputs": [
    {
     "data": {
      "text/html": [
       "<div>\n",
       "<style scoped>\n",
       "    .dataframe tbody tr th:only-of-type {\n",
       "        vertical-align: middle;\n",
       "    }\n",
       "\n",
       "    .dataframe tbody tr th {\n",
       "        vertical-align: top;\n",
       "    }\n",
       "\n",
       "    .dataframe thead th {\n",
       "        text-align: right;\n",
       "    }\n",
       "</style>\n",
       "<table border=\"1\" class=\"dataframe\">\n",
       "  <thead>\n",
       "    <tr style=\"text-align: right;\">\n",
       "      <th></th>\n",
       "      <th>Hours</th>\n",
       "      <th>Scores</th>\n",
       "    </tr>\n",
       "  </thead>\n",
       "  <tbody>\n",
       "    <tr>\n",
       "      <th>count</th>\n",
       "      <td>25.000000</td>\n",
       "      <td>25.000000</td>\n",
       "    </tr>\n",
       "    <tr>\n",
       "      <th>mean</th>\n",
       "      <td>5.012000</td>\n",
       "      <td>51.480000</td>\n",
       "    </tr>\n",
       "    <tr>\n",
       "      <th>std</th>\n",
       "      <td>2.525094</td>\n",
       "      <td>25.286887</td>\n",
       "    </tr>\n",
       "    <tr>\n",
       "      <th>min</th>\n",
       "      <td>1.100000</td>\n",
       "      <td>17.000000</td>\n",
       "    </tr>\n",
       "    <tr>\n",
       "      <th>25%</th>\n",
       "      <td>2.700000</td>\n",
       "      <td>30.000000</td>\n",
       "    </tr>\n",
       "    <tr>\n",
       "      <th>50%</th>\n",
       "      <td>4.800000</td>\n",
       "      <td>47.000000</td>\n",
       "    </tr>\n",
       "    <tr>\n",
       "      <th>75%</th>\n",
       "      <td>7.400000</td>\n",
       "      <td>75.000000</td>\n",
       "    </tr>\n",
       "    <tr>\n",
       "      <th>max</th>\n",
       "      <td>9.200000</td>\n",
       "      <td>95.000000</td>\n",
       "    </tr>\n",
       "  </tbody>\n",
       "</table>\n",
       "</div>"
      ],
      "text/plain": [
       "           Hours     Scores\n",
       "count  25.000000  25.000000\n",
       "mean    5.012000  51.480000\n",
       "std     2.525094  25.286887\n",
       "min     1.100000  17.000000\n",
       "25%     2.700000  30.000000\n",
       "50%     4.800000  47.000000\n",
       "75%     7.400000  75.000000\n",
       "max     9.200000  95.000000"
      ]
     },
     "execution_count": 9,
     "metadata": {},
     "output_type": "execute_result"
    }
   ],
   "source": [
    "# Summary of all numerical data\n",
    "hs.describe()"
   ]
  },
  {
   "cell_type": "code",
   "execution_count": 10,
   "id": "2f9b49fc",
   "metadata": {},
   "outputs": [
    {
     "data": {
      "text/html": [
       "<div>\n",
       "<style scoped>\n",
       "    .dataframe tbody tr th:only-of-type {\n",
       "        vertical-align: middle;\n",
       "    }\n",
       "\n",
       "    .dataframe tbody tr th {\n",
       "        vertical-align: top;\n",
       "    }\n",
       "\n",
       "    .dataframe thead th {\n",
       "        text-align: right;\n",
       "    }\n",
       "</style>\n",
       "<table border=\"1\" class=\"dataframe\">\n",
       "  <thead>\n",
       "    <tr style=\"text-align: right;\">\n",
       "      <th></th>\n",
       "      <th>Hours</th>\n",
       "      <th>Scores</th>\n",
       "    </tr>\n",
       "  </thead>\n",
       "  <tbody>\n",
       "    <tr>\n",
       "      <th>Hours</th>\n",
       "      <td>1.000000</td>\n",
       "      <td>0.976191</td>\n",
       "    </tr>\n",
       "    <tr>\n",
       "      <th>Scores</th>\n",
       "      <td>0.976191</td>\n",
       "      <td>1.000000</td>\n",
       "    </tr>\n",
       "  </tbody>\n",
       "</table>\n",
       "</div>"
      ],
      "text/plain": [
       "           Hours    Scores\n",
       "Hours   1.000000  0.976191\n",
       "Scores  0.976191  1.000000"
      ]
     },
     "metadata": {},
     "output_type": "display_data"
    },
    {
     "data": {
      "image/png": "[encoded data removed]",
      "text/plain": [
       "<Figure size 720x720 with 2 Axes>"
      ]
     },
     "metadata": {},
     "output_type": "display_data"
    }
   ],
   "source": [
    "# Showing correlation between the variables\n",
    "dataset=hs.iloc[:,[0,1]]\n",
    "Cor_s=dataset.corr()\n",
    "display(Cor_s)\n",
    "# Plotting the correlation matrix using heatmap\n",
    "sns.set(font_scale=1.35)\n",
    "f, ax = plt.subplots(figsize=(10,10))\n",
    "hm=sns.heatmap(Cor_s, annot = True,vmax=.8)"
   ]
  },
  {
   "cell_type": "markdown",
   "id": "6dfe914f",
   "metadata": {},
   "source": [
    "## Checking For Outliers"
   ]
  },
  {
   "cell_type": "code",
   "execution_count": 12,
   "id": "60b44279",
   "metadata": {},
   "outputs": [
    {
     "data": {
      "text/plain": [
       "Text(0.5, 0, 'SCORES')"
      ]
     },
     "execution_count": 12,
     "metadata": {},
     "output_type": "execute_result"
    },
    {
     "data": {
      "image/png": "[encoded data removed]",
      "text/plain": [
       "<Figure size 1152x576 with 2 Axes>"
      ]
     },
     "metadata": {},
     "output_type": "display_data"
    }
   ],
   "source": [
    "# plot graphs for numerical columns to check data distribution \n",
    "\n",
    "plt.figure(figsize=[16,8])\n",
    "plt.subplot(1,2,1)\n",
    "sns.boxplot(hs['Hours'],showmeans=True,meanprops={\"marker\":\"o\",\"markerfacecolor\":\"red\", \"markeredgecolor\":\"black\",\"markersize\":\"10\"})\n",
    "plt.xlabel('HOURS', fontdict={'color':'red','fontsize':18})\n",
    "\n",
    "plt.subplot(1,2,2)\n",
    "sns.boxplot(hs['Scores'],showmeans=True,meanprops={\"marker\":\"o\",\"markerfacecolor\":\"red\", \"markeredgecolor\":\"black\",\"markersize\":\"10\"})\n",
    "plt.xlabel('SCORES', fontdict={'color':'red','fontsize':18})\n"
   ]
  },
  {
   "cell_type": "markdown",
   "id": "d7ec2fde",
   "metadata": {},
   "source": [
    " There are no outliers"
   ]
  },
  {
   "cell_type": "markdown",
   "id": "b170aad9",
   "metadata": {},
   "source": [
    "## Data Visualization"
   ]
  },
  {
   "cell_type": "markdown",
   "id": "ee41ad7c",
   "metadata": {},
   "source": [
    "### Bivariate Analysis"
   ]
  },
  {
   "cell_type": "code",
   "execution_count": 17,
   "id": "d02db31d",
   "metadata": {},
   "outputs": [
    {
     "data": {
      "text/plain": [
       "Text(0.5, 1.0, 'RELATIONSHIP BETWEEN SCORES AND HOURS')"
      ]
     },
     "execution_count": 17,
     "metadata": {},
     "output_type": "execute_result"
    },
    {
     "data": {
      "image/png": "[encoded data removed]",
      "text/plain": [
       "<Figure size 864x504 with 1 Axes>"
      ]
     },
     "metadata": {},
     "output_type": "display_data"
    }
   ],
   "source": [
    "plt.subplots(figsize=(12,7))\n",
    "sns.set(style='dark')\n",
    "sns.regplot(x=hs['Scores'],y=hs['Hours'],line_kws={\"color\": \"red\"})\n",
    "plt.xlabel('SCORES',fontdict={'color':'black','fontsize':18})\n",
    "plt.ylabel('HOURS',fontdict={'color':'black','fontsize':18})\n",
    "plt.title('RELATIONSHIP BETWEEN SCORES AND HOURS',fontdict={'color':'black','fontsize':18})"
   ]
  },
  {
   "cell_type": "markdown",
   "id": "095a0a82",
   "metadata": {},
   "source": [
    "There is a strong positive relationship between the two variables"
   ]
  },
  {
   "cell_type": "markdown",
   "id": "77a39ea4",
   "metadata": {},
   "source": [
    "## Preparing The Data For Modelling"
   ]
  },
  {
   "cell_type": "code",
   "execution_count": 14,
   "id": "9c36c203",
   "metadata": {},
   "outputs": [],
   "source": [
    "# Creating the Independendent and Dependent Data Set\n",
    "Y= hs.iloc[:,1] # Dependent Data\n",
    "X= hs.iloc[:,0] #Independent Data"
   ]
  },
  {
   "cell_type": "code",
   "execution_count": 20,
   "id": "58cb5ab4",
   "metadata": {},
   "outputs": [
    {
     "data": {
      "text/plain": [
       "Text(0, 0.5, 'DENSITY')"
      ]
     },
     "execution_count": 20,
     "metadata": {},
     "output_type": "execute_result"
    },
    {
     "data": {
      "image/png": "[encoded data removed]",
      "text/plain": [
       "<Figure size 720x432 with 1 Axes>"
      ]
     },
     "metadata": {},
     "output_type": "display_data"
    }
   ],
   "source": [
    "plt.figure(figsize=(10,6))\n",
    "sns.distplot(hs['Scores'],color='red')\n",
    "plt.xlabel('SCORES',fontdict={'color':'black','fontsize':15})\n",
    "plt.ylabel('DENSITY',fontdict={'color':'black','fontsize':15})"
   ]
  },
  {
   "cell_type": "code",
   "execution_count": 21,
   "id": "a1865530",
   "metadata": {},
   "outputs": [],
   "source": [
    "# Splitting the dataset into the Training set and Test set\n",
    "from sklearn.model_selection import train_test_split\n",
    "X_train,X_test,Y_train,Y_test=train_test_split(X,Y,test_size=0.20,random_state=0)"
   ]
  },
  {
   "cell_type": "markdown",
   "id": "ded82b90",
   "metadata": {},
   "source": [
    "We are spliting the data on percentage basis i.e 80% of the data will go to train data and 20% of the data  will goto test data."
   ]
  },
  {
   "cell_type": "markdown",
   "id": "66316738",
   "metadata": {},
   "source": [
    "## Building The Model"
   ]
  },
  {
   "cell_type": "code",
   "execution_count": 27,
   "id": "647029b5",
   "metadata": {},
   "outputs": [
    {
     "name": "stdout",
     "output_type": "stream",
     "text": [
      "Training complete\n"
     ]
    }
   ],
   "source": [
    "# Fitting Multiple Linear Regression to the Training set\n",
    "from sklearn.linear_model import LinearRegression\n",
    "regressor=LinearRegression()\n",
    "X_train = np.array([X_train])\n",
    "X_train=X_train.reshape(-1,1)\n",
    "regressor.fit(X_train,Y_train)\n",
    "\n",
    "print(\"Training complete\")"
   ]
  },
  {
   "cell_type": "code",
   "execution_count": 28,
   "id": "0a0185cd",
   "metadata": {},
   "outputs": [],
   "source": [
    "# Predicting the Test set result\n",
    "X_test = np.array([X_test])\n",
    "X_test=X_test.reshape(-1,1)\n",
    "y_pred = regressor.predict(X_test)\n",
    "y_pred_data=pd.DataFrame(y_pred)"
   ]
  },
  {
   "cell_type": "code",
   "execution_count": 30,
   "id": "c83423c2",
   "metadata": {},
   "outputs": [
    {
     "name": "stdout",
     "output_type": "stream",
     "text": [
      "The Actual R-square is:  0.9515510725211552\n"
     ]
    }
   ],
   "source": [
    "score1=regressor.score(X_train,Y_train)\n",
    "print(\"The Actual R-square is: \",score1)"
   ]
  },
  {
   "cell_type": "code",
   "execution_count": 31,
   "id": "b4c669a2",
   "metadata": {},
   "outputs": [
    {
     "name": "stdout",
     "output_type": "stream",
     "text": [
      "The Adjusted R-square is:  0.9454906892105356\n"
     ]
    }
   ],
   "source": [
    "score2=regressor.score(X_test,Y_test)\n",
    "print(\"The Adjusted R-square is: \",score2)"
   ]
  },
  {
   "cell_type": "markdown",
   "id": "3dc13ef5",
   "metadata": {},
   "source": [
    "## TASK"
   ]
  },
  {
   "cell_type": "markdown",
   "id": "b2e90625",
   "metadata": {},
   "source": [
    "### What will be predicted score if a student studies for 9.25 hrs/ day?"
   ]
  },
  {
   "cell_type": "code",
   "execution_count": 33,
   "id": "84042ab4",
   "metadata": {},
   "outputs": [
    {
     "name": "stdout",
     "output_type": "stream",
     "text": [
      "No of Hours = [[9.25]]\n",
      "Predicted Score = 93.69173248737538\n"
     ]
    }
   ],
   "source": [
    "hours=9.25\n",
    "hours=np.array([hours])\n",
    "hours=hours.reshape(-1,1)\n",
    "own_pred=regressor.predict(hours)\n",
    "print(\"No of Hours = {}\".format(hours))\n",
    "print(\"Predicted Score = {}\".format(own_pred[0]))"
   ]
  },
  {
   "cell_type": "markdown",
   "id": "a7003f18",
   "metadata": {},
   "source": [
    "## Model Statistics"
   ]
  },
  {
   "cell_type": "code",
   "execution_count": 34,
   "id": "3872b471",
   "metadata": {},
   "outputs": [],
   "source": [
    "# Splitting the dataset into the Training set and Test set\n",
    "from sklearn.model_selection import train_test_split\n",
    "X_train,X_test,Y_train,Y_test=train_test_split(X,Y,test_size=0.20,random_state=0)"
   ]
  },
  {
   "cell_type": "code",
   "execution_count": 35,
   "id": "0ee7ccc8",
   "metadata": {},
   "outputs": [],
   "source": [
    "#Adding Intercept term to the model\n",
    "X_train=sm.add_constant(X_train)\n",
    "X_test=sm.add_constant(X_test)"
   ]
  },
  {
   "cell_type": "markdown",
   "id": "8a334ca5",
   "metadata": {},
   "source": [
    "Printing the model statistics"
   ]
  },
  {
   "cell_type": "code",
   "execution_count": 36,
   "id": "065f5591",
   "metadata": {},
   "outputs": [
    {
     "data": {
      "text/html": [
       "<table class=\"simpletable\">\n",
       "<caption>OLS Regression Results</caption>\n",
       "<tr>\n",
       "  <th>Dep. Variable:</th>         <td>Scores</td>      <th>  R-squared:         </th> <td>   0.952</td>\n",
       "</tr>\n",
       "<tr>\n",
       "  <th>Model:</th>                   <td>OLS</td>       <th>  Adj. R-squared:    </th> <td>   0.949</td>\n",
       "</tr>\n",
       "<tr>\n",
       "  <th>Method:</th>             <td>Least Squares</td>  <th>  F-statistic:       </th> <td>   353.5</td>\n",
       "</tr>\n",
       "<tr>\n",
       "  <th>Date:</th>             <td>Tue, 17 May 2022</td> <th>  Prob (F-statistic):</th> <td>2.79e-13</td>\n",
       "</tr>\n",
       "<tr>\n",
       "  <th>Time:</th>                 <td>12:08:03</td>     <th>  Log-Likelihood:    </th> <td> -62.686</td>\n",
       "</tr>\n",
       "<tr>\n",
       "  <th>No. Observations:</th>      <td>    20</td>      <th>  AIC:               </th> <td>   129.4</td>\n",
       "</tr>\n",
       "<tr>\n",
       "  <th>Df Residuals:</th>          <td>    18</td>      <th>  BIC:               </th> <td>   131.4</td>\n",
       "</tr>\n",
       "<tr>\n",
       "  <th>Df Model:</th>              <td>     1</td>      <th>                     </th>     <td> </td>   \n",
       "</tr>\n",
       "<tr>\n",
       "  <th>Covariance Type:</th>      <td>nonrobust</td>    <th>                     </th>     <td> </td>   \n",
       "</tr>\n",
       "</table>\n",
       "<table class=\"simpletable\">\n",
       "<tr>\n",
       "    <td></td>       <th>coef</th>     <th>std err</th>      <th>t</th>      <th>P>|t|</th>  <th>[0.025</th>    <th>0.975]</th>  \n",
       "</tr>\n",
       "<tr>\n",
       "  <th>const</th> <td>    2.0182</td> <td>    3.057</td> <td>    0.660</td> <td> 0.517</td> <td>   -4.404</td> <td>    8.441</td>\n",
       "</tr>\n",
       "<tr>\n",
       "  <th>Hours</th> <td>    9.9107</td> <td>    0.527</td> <td>   18.802</td> <td> 0.000</td> <td>    8.803</td> <td>   11.018</td>\n",
       "</tr>\n",
       "</table>\n",
       "<table class=\"simpletable\">\n",
       "<tr>\n",
       "  <th>Omnibus:</th>       <td> 4.659</td> <th>  Durbin-Watson:     </th> <td>   1.813</td>\n",
       "</tr>\n",
       "<tr>\n",
       "  <th>Prob(Omnibus):</th> <td> 0.097</td> <th>  Jarque-Bera (JB):  </th> <td>   1.720</td>\n",
       "</tr>\n",
       "<tr>\n",
       "  <th>Skew:</th>          <td>-0.296</td> <th>  Prob(JB):          </th> <td>   0.423</td>\n",
       "</tr>\n",
       "<tr>\n",
       "  <th>Kurtosis:</th>      <td> 1.691</td> <th>  Cond. No.          </th> <td>    13.9</td>\n",
       "</tr>\n",
       "</table><br/><br/>Notes:<br/>[1] Standard Errors assume that the covariance matrix of the errors is correctly specified."
      ],
      "text/plain": [
       "<class 'statsmodels.iolib.summary.Summary'>\n",
       "\"\"\"\n",
       "                            OLS Regression Results                            \n",
       "==============================================================================\n",
       "Dep. Variable:                 Scores   R-squared:                       0.952\n",
       "Model:                            OLS   Adj. R-squared:                  0.949\n",
       "Method:                 Least Squares   F-statistic:                     353.5\n",
       "Date:                Tue, 17 May 2022   Prob (F-statistic):           2.79e-13\n",
       "Time:                        12:08:03   Log-Likelihood:                -62.686\n",
       "No. Observations:                  20   AIC:                             129.4\n",
       "Df Residuals:                      18   BIC:                             131.4\n",
       "Df Model:                           1                                         \n",
       "Covariance Type:            nonrobust                                         \n",
       "==============================================================================\n",
       "                 coef    std err          t      P>|t|      [0.025      0.975]\n",
       "------------------------------------------------------------------------------\n",
       "const          2.0182      3.057      0.660      0.517      -4.404       8.441\n",
       "Hours          9.9107      0.527     18.802      0.000       8.803      11.018\n",
       "==============================================================================\n",
       "Omnibus:                        4.659   Durbin-Watson:                   1.813\n",
       "Prob(Omnibus):                  0.097   Jarque-Bera (JB):                1.720\n",
       "Skew:                          -0.296   Prob(JB):                        0.423\n",
       "Kurtosis:                       1.691   Cond. No.                         13.9\n",
       "==============================================================================\n",
       "\n",
       "Notes:\n",
       "[1] Standard Errors assume that the covariance matrix of the errors is correctly specified.\n",
       "\"\"\""
      ]
     },
     "execution_count": 36,
     "metadata": {},
     "output_type": "execute_result"
    }
   ],
   "source": [
    "model=sm.OLS(Y_train,X_train).fit() # Fitting the model\n",
    "Y_pred=model.predict(X_test) # Predicting the testset results\n",
    "model.summary()"
   ]
  },
  {
   "cell_type": "code",
   "execution_count": 37,
   "id": "0eaa36ee",
   "metadata": {},
   "outputs": [
    {
     "data": {
      "text/plain": [
       "const    2.018160\n",
       "Hours    9.910656\n",
       "dtype: float64"
      ]
     },
     "execution_count": 37,
     "metadata": {},
     "output_type": "execute_result"
    }
   ],
   "source": [
    "model.params # Extracting the coefficients"
   ]
  },
  {
   "cell_type": "code",
   "execution_count": 38,
   "id": "5651406d",
   "metadata": {},
   "outputs": [
    {
     "name": "stdout",
     "output_type": "stream",
     "text": [
      "   VIF Factor features\n",
      "0    5.444128    const\n",
      "1    1.000000    Hours\n"
     ]
    }
   ],
   "source": [
    "# Checking the VIF value\n",
    "from statsmodels.stats.outliers_influence import variance_inflation_factor\n",
    "vif = pd.DataFrame()\n",
    "vif[\"VIF Factor\"] =[variance_inflation_factor(X_train.values, j) for j in range(X_train.shape[1])]\n",
    "vif[\"features\"] = X_train.columns\n",
    "print(vif)"
   ]
  },
  {
   "cell_type": "markdown",
   "id": "ffb401bf",
   "metadata": {},
   "source": [
    "Since the independent variable acheived VIF factor less than 1.7.So we can say that our model has no problem of\n",
    "multicollinearity(i.e High correlation between explanatory variables) "
   ]
  },
  {
   "cell_type": "code",
   "execution_count": 40,
   "id": "bc78156c",
   "metadata": {},
   "outputs": [
    {
     "data": {
      "text/html": [
       "<div>\n",
       "<style scoped>\n",
       "    .dataframe tbody tr th:only-of-type {\n",
       "        vertical-align: middle;\n",
       "    }\n",
       "\n",
       "    .dataframe tbody tr th {\n",
       "        vertical-align: top;\n",
       "    }\n",
       "\n",
       "    .dataframe thead th {\n",
       "        text-align: right;\n",
       "    }\n",
       "</style>\n",
       "<table border=\"1\" class=\"dataframe\">\n",
       "  <thead>\n",
       "    <tr style=\"text-align: right;\">\n",
       "      <th></th>\n",
       "      <th>Actual Values</th>\n",
       "      <th>Predicted Values</th>\n",
       "    </tr>\n",
       "  </thead>\n",
       "  <tbody>\n",
       "    <tr>\n",
       "      <th>5</th>\n",
       "      <td>20</td>\n",
       "      <td>16.884145</td>\n",
       "    </tr>\n",
       "    <tr>\n",
       "      <th>2</th>\n",
       "      <td>27</td>\n",
       "      <td>33.732261</td>\n",
       "    </tr>\n",
       "    <tr>\n",
       "      <th>19</th>\n",
       "      <td>69</td>\n",
       "      <td>75.357018</td>\n",
       "    </tr>\n",
       "    <tr>\n",
       "      <th>16</th>\n",
       "      <td>30</td>\n",
       "      <td>26.794801</td>\n",
       "    </tr>\n",
       "    <tr>\n",
       "      <th>11</th>\n",
       "      <td>62</td>\n",
       "      <td>60.491033</td>\n",
       "    </tr>\n",
       "  </tbody>\n",
       "</table>\n",
       "</div>"
      ],
      "text/plain": [
       "    Actual Values  Predicted Values\n",
       "5              20         16.884145\n",
       "2              27         33.732261\n",
       "19             69         75.357018\n",
       "16             30         26.794801\n",
       "11             62         60.491033"
      ]
     },
     "metadata": {},
     "output_type": "display_data"
    }
   ],
   "source": [
    "#Comparing Actual values with predicted values\n",
    "result=pd.DataFrame()\n",
    "result['Actual Values']=Y_test\n",
    "result['Predicted Values']=Y_pred\n",
    "display(result)"
   ]
  },
  {
   "cell_type": "code",
   "execution_count": 63,
   "id": "42a21d6d",
   "metadata": {},
   "outputs": [
    {
     "data": {
      "image/png": "[encoded data removed]",
      "text/plain": [
       "<Figure size 648x648 with 1 Axes>"
      ]
     },
     "metadata": {},
     "output_type": "display_data"
    }
   ],
   "source": [
    "# Plotting the Bar graph to depict the difference between the actual and predicted value\n",
    "result.plot.bar(color=['green','blue'],figsize=(9,9))\n",
    "plt.xlabel(\"HOURS\",fontdict={'color':'black','fontsize':15})\n",
    "plt.ylabel(\"SCORES\",fontdict={'color':'black','fontsize':15})\n",
    "plt.title(\"ACTUAL VS PREDICTED\",fontdict={'color':'black','fontsize':15})\n",
    "plt.show()"
   ]
  },
  {
   "cell_type": "code",
   "execution_count": 61,
   "id": "d64bc63c",
   "metadata": {},
   "outputs": [
    {
     "data": {
      "text/plain": [
       "<AxesSubplot:ylabel='Density'>"
      ]
     },
     "execution_count": 61,
     "metadata": {},
     "output_type": "execute_result"
    },
    {
     "data": {
      "image/png": "[encoded data removed]",
      "text/plain": [
       "<Figure size 720x360 with 1 Axes>"
      ]
     },
     "metadata": {},
     "output_type": "display_data"
    }
   ],
   "source": [
    "#Plotting the difference between Actual and Predicted values\n",
    "diff=np.array(np.abs(Y_test-Y_pred))\n",
    "plt.subplots(figsize=(10,5))\n",
    "sns.distplot(diff,color='brown')"
   ]
  },
  {
   "cell_type": "markdown",
   "id": "b3baf409",
   "metadata": {},
   "source": [
    "## MODEL EVALUATION"
   ]
  },
  {
   "cell_type": "markdown",
   "id": "0b3a9ad9",
   "metadata": {},
   "source": [
    "### Mean Absolute Error(MAE): MAE measures the differences between prediction and actual observation."
   ]
  },
  {
   "cell_type": "code",
   "execution_count": 50,
   "id": "0daa773f",
   "metadata": {},
   "outputs": [
    {
     "name": "stdout",
     "output_type": "stream",
     "text": [
      "Mean Absolute Error: 4.1838598990029805\n"
     ]
    }
   ],
   "source": [
    "from sklearn import metrics  \n",
    "print('Mean Absolute Error:',metrics.mean_absolute_error(Y_test, Y_pred)) "
   ]
  },
  {
   "cell_type": "markdown",
   "id": "76c2e672",
   "metadata": {},
   "source": [
    "### MSE simply refers to the mean of the squared difference between the predicted value and the observed value."
   ]
  },
  {
   "cell_type": "code",
   "execution_count": 51,
   "id": "6a9655c6",
   "metadata": {},
   "outputs": [
    {
     "name": "stdout",
     "output_type": "stream",
     "text": [
      "Mean Squared Error: 21.59876930721748\n"
     ]
    }
   ],
   "source": [
    "print('Mean Squared Error:',metrics.mean_squared_error(Y_test, Y_pred))"
   ]
  },
  {
   "cell_type": "markdown",
   "id": "403790a6",
   "metadata": {},
   "source": [
    "### R-squared is measure of how close the data are to the fitted regression line."
   ]
  },
  {
   "cell_type": "code",
   "execution_count": 52,
   "id": "f846ae69",
   "metadata": {},
   "outputs": [
    {
     "data": {
      "text/plain": [
       "0.9454906892105354"
      ]
     },
     "execution_count": 52,
     "metadata": {},
     "output_type": "execute_result"
    }
   ],
   "source": [
    "from sklearn.metrics import r2_score\n",
    "r2_score(Y_test,Y_pred)"
   ]
  },
  {
   "cell_type": "code",
   "execution_count": 53,
   "id": "260f847a",
   "metadata": {},
   "outputs": [
    {
     "name": "stdout",
     "output_type": "stream",
     "text": [
      "The RMSE of our model is 4.647447612100375\n"
     ]
    }
   ],
   "source": [
    "#Root Mean Square Error\n",
    "import math\n",
    "RMSE=math.sqrt(metrics.mean_squared_error(Y_test, Y_pred))\n",
    "print(\"The RMSE of our model is\",RMSE)"
   ]
  },
  {
   "cell_type": "markdown",
   "id": "feaf3fe1",
   "metadata": {},
   "source": [
    "We have a loss of 4.647447612100375, which is quite small so our model did quite well.\n",
    "Moreover our model also achieved a higher R-square and Adjusted R-square"
   ]
  },
  {
   "cell_type": "markdown",
   "id": "4224b563",
   "metadata": {},
   "source": [
    "### The mean absolute percentage error (MAPE) is a measure of how accurate a forecast system is.The mean absolute percentage error (MAPE) is the mean or average of the absolute percentage errors of forecasts."
   ]
  },
  {
   "cell_type": "code",
   "execution_count": 55,
   "id": "e19a10f5",
   "metadata": {},
   "outputs": [
    {
     "name": "stdout",
     "output_type": "stream",
     "text": [
      "12.56889161704568\n"
     ]
    }
   ],
   "source": [
    "def mape(actual,pred):\n",
    "    actual,pred=np.array(actual),np.array(pred)\n",
    "    m=np.mean(np.abs((actual-pred)/actual))*100\n",
    "    return m\n",
    "\n",
    "mape1=mape(Y_test,Y_pred)\n",
    "print(mape1)"
   ]
  },
  {
   "cell_type": "markdown",
   "id": "bb7b281c",
   "metadata": {},
   "source": [
    "## CONCLUSION"
   ]
  },
  {
   "cell_type": "markdown",
   "id": "991e712f",
   "metadata": {},
   "source": [
    "#### 1.We have successfully created a Simple linear Regression model to predict score of the student given number of hours one studies.\n",
    "#### 2.By the MAE and MSE , we are not getting much difference in actual or predicted value , means error is less.\n",
    "#### 3.The Score of R-Square 0.94 quite close to 1.\n",
    "#### 4.My model also achieved lower MAPE.The lower the MAPE better is the model.\n"
   ]
  }
 ],
 "metadata": {
  "kernelspec": {
   "display_name": "Python 3 (ipykernel)",
   "language": "python",
   "name": "python3"
  },
  "language_info": {
   "codemirror_mode": {
    "name": "ipython",
    "version": 3
   },
   "file_extension": ".py",
   "mimetype": "text/x-python",
   "name": "python",
   "nbconvert_exporter": "python",
   "pygments_lexer": "ipython3",
   "version": "3.8.8"
  }
 },
 "nbformat": 4,
 "nbformat_minor": 5
}
